{
 "cells": [
  {
   "cell_type": "markdown",
   "id": "2fd9c381-a90f-460a-926c-8102a65e3d7e",
   "metadata": {},
   "source": [
    "Data Science Tools and Ecosystem"
   ]
  },
  {
   "cell_type": "markdown",
   "id": "22435194-1566-409c-b16b-e4ab2ad3406f",
   "metadata": {},
   "source": [
    "In this notebook Data Science tools and Ecosystem are summarized\n",
    "\n",
    "**Objectives:**\n",
    "unordered list\n",
    "-  List popular languages for Data Science\n",
    "-  Tools\n",
    "-  Languages\n",
    "\n"
   ]
  },
  {
   "cell_type": "markdown",
   "id": "fdda12d7-7c32-48d6-b7b3-6428d65e66bd",
   "metadata": {},
   "source": [
    "Some of popular languages that Data Scientists use are :\n",
    "1. Python\n",
    "2. R\n",
    "3. Julia\n",
    "4. Java\n"
   ]
  },
  {
   "cell_type": "markdown",
   "id": "fff3959d-70de-409c-9d3a-de3d8e60b0be",
   "metadata": {},
   "source": [
    "Some of the commonly used libraries used by Data Scientists include:\n",
    "1. Pandas\n",
    "2. Matplotlib\n",
    "3. ggplot"
   ]
  },
  {
   "cell_type": "markdown",
   "id": "64348c4a-46af-4e48-8592-c0b67f9e7c20",
   "metadata": {},
   "source": [
    "|---|\n",
    "|Data Science Tool|\n",
    "|---|\n",
    "|---|\n",
    "|---|"
   ]
  },
  {
   "cell_type": "markdown",
   "id": "60d42829-2cff-45b6-a985-f61ce358803f",
   "metadata": {},
   "source": [
    "### Below are a few examples of evaluating arithmetic expressions in Python"
   ]
  },
  {
   "cell_type": "code",
   "execution_count": 1,
   "id": "82111def-f193-4a4e-91a9-9733adc813d3",
   "metadata": {
    "tags": []
   },
   "outputs": [
    {
     "data": {
      "text/plain": [
       "17"
      ]
     },
     "execution_count": 1,
     "metadata": {},
     "output_type": "execute_result"
    }
   ],
   "source": [
    "# This a simple arithmetic expression to mutiply then add integers\n",
    "\n",
    "(3*4)+5"
   ]
  },
  {
   "cell_type": "code",
   "execution_count": 3,
   "id": "a95f6aa1-d4f1-48c9-97e5-35cf76aee7e1",
   "metadata": {
    "tags": []
   },
   "outputs": [
    {
     "data": {
      "text/plain": [
       "3.3333333333333335"
      ]
     },
     "execution_count": 3,
     "metadata": {},
     "output_type": "execute_result"
    }
   ],
   "source": [
    "# This will convert 200 minutes to hours by diving by 60\n",
    "\n",
    "200/60"
   ]
  },
  {
   "cell_type": "markdown",
   "id": "3afa5e7a-078d-46a7-af68-fd55f61c9fe3",
   "metadata": {},
   "source": [
    "In this notebook Data Science tools and Ecosystem are summarized\n",
    "\n",
    "**Objectives:**\n",
    "unordered list\n",
    "-  List popular languages for Data Science\n",
    "-  Tools\n",
    "-  Languages\n",
    "\n"
   ]
  },
  {
   "cell_type": "markdown",
   "id": "3d645b58-d62f-4a7f-b307-939fcd50505e",
   "metadata": {},
   "source": [
    "## Author\n",
    "Deepraj Arya"
   ]
  },
  {
   "cell_type": "code",
   "execution_count": null,
   "id": "20721a79-e532-47aa-bfbd-63649b391baa",
   "metadata": {},
   "outputs": [],
   "source": []
  }
 ],
 "metadata": {
  "kernelspec": {
   "display_name": "Python",
   "language": "python",
   "name": "conda-env-python-py"
  },
  "language_info": {
   "codemirror_mode": {
    "name": "ipython",
    "version": 3
   },
   "file_extension": ".py",
   "mimetype": "text/x-python",
   "name": "python",
   "nbconvert_exporter": "python",
   "pygments_lexer": "ipython3",
   "version": "3.7.12"
  }
 },
 "nbformat": 4,
 "nbformat_minor": 5
}
